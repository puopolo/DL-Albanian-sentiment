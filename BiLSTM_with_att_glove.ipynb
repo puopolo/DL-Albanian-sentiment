{
  "nbformat": 4,
  "nbformat_minor": 0,
  "metadata": {
    "colab": {
      "provenance": [],
      "machine_shape": "hm"
    },
    "kernelspec": {
      "name": "python3",
      "display_name": "Python 3"
    },
    "language_info": {
      "name": "python"
    }
  },
  "cells": [
    {
      "cell_type": "code",
      "execution_count": null,
      "metadata": {
        "colab": {
          "base_uri": "https://localhost:8080/"
        },
        "id": "Ny85vhnsf_5d",
        "outputId": "5fb56f2e-f200-4f9b-975c-700b5540cda1"
      },
      "outputs": [
        {
          "output_type": "stream",
          "name": "stdout",
          "text": [
            "Mounted at /content/drive\n"
          ]
        }
      ],
      "source": [
        "from google.colab import drive\n",
        "drive.mount('/content/drive')"
      ]
    },
    {
      "cell_type": "code",
      "source": [
        "import pandas as pd\n",
        "file_path = '/content/drive/My Drive/Colab Notebooks/dl-albanian/AlbAna-simplified.csv'\n",
        "\n",
        "# Load the CSV file into a DataFrame\n",
        "df = pd.read_csv(file_path, header=0)"
      ],
      "metadata": {
        "id": "XzKU5kCQgDDp"
      },
      "execution_count": null,
      "outputs": []
    },
    {
      "cell_type": "code",
      "source": [
        "print(df.head())\n",
        "num_rows, num_cols = df.shape\n",
        "print(\"Number of rows:\", num_rows)\n",
        "print(\"Number of columns:\", num_cols)"
      ],
      "metadata": {
        "colab": {
          "base_uri": "https://localhost:8080/"
        },
        "id": "ViH2cVcVgKRR",
        "outputId": "e6547a47-0537-4e0f-da3f-9f2d93803579"
      },
      "execution_count": null,
      "outputs": [
        {
          "output_type": "stream",
          "name": "stdout",
          "text": [
            "                                             Comment  Annotation\n",
            "0                                     Dorentina TBT            0\n",
            "1  Mbyllni kufijte sot. Sitiata ka me u ba shume ...           2\n",
            "2  Mbyllni kufit ashtu mund te jemi te sigurte, p...           0\n",
            "3  Pse nuk po  i  mbyllni  kufijte,  sonte  ne  q...           0\n",
            "4  Mos  harroni  qe  kufinjte  tane  jane  te  ha...           0\n",
            "Number of rows: 10742\n",
            "Number of columns: 2\n"
          ]
        }
      ]
    },
    {
      "cell_type": "code",
      "source": [
        "#Create lists of Annotations and Comments\n",
        "#==============================================================================\n",
        "y, docs = [], []\n",
        "\n",
        "for annotation in df['Annotation']:\n",
        "    # Append each annotation value to the list\n",
        "    y.append(annotation)\n",
        "\n",
        "for comment in df['Comment']:\n",
        "    # Append each comment to the list\n",
        "    docs.append(comment)\n",
        "\n",
        "average = sum(len(doc) for doc in docs) / len(docs)\n",
        "print (average)"
      ],
      "metadata": {
        "colab": {
          "base_uri": "https://localhost:8080/"
        },
        "id": "uB0GL_dYgnUW",
        "outputId": "7e4e7945-48a3-487d-cd1b-b79acf0d01c1"
      },
      "execution_count": null,
      "outputs": [
        {
          "output_type": "stream",
          "name": "stdout",
          "text": [
            "84.7819772854217\n"
          ]
        }
      ]
    },
    {
      "cell_type": "code",
      "source": [
        "#Encode class values as integers\n",
        "#==============================================================================\n",
        "from sklearn.preprocessing import LabelEncoder\n",
        "from keras import utils\n",
        "\n",
        "encoder = LabelEncoder()\n",
        "\n",
        "encoder.fit(y)\n",
        "\n",
        "encoded_y = encoder.transform(y)\n",
        "\n",
        "# convert integers to dummy variables (i.e. one hot encoded)\n",
        "if encoded_y.size == 0:\n",
        "    print(\"Error: encoded_y is empty. Please check the input data.\")\n",
        "else:\n",
        "    # Convert integers to dummy variables (i.e. one hot encoded)\n",
        "    dummy_y = utils.to_categorical(encoded_y)"
      ],
      "metadata": {
        "id": "ydj0wTJRgxsX"
      },
      "execution_count": null,
      "outputs": []
    },
    {
      "cell_type": "code",
      "source": [
        "#Define plot_history function\n",
        "#==============================================================================\n",
        "import matplotlib.pyplot as plt\n",
        "\n",
        "def plot_history(history):\n",
        "    loss_list = [s for s in history.history.keys() if 'loss' in s and 'val' not in s]\n",
        "    val_loss_list = [s for s in history.history.keys() if 'loss' in s and 'val' in s]\n",
        "    acc_list = [s for s in history.history.keys() if 'acc' in s and 'val' not in s]\n",
        "    val_acc_list = [s for s in history.history.keys() if 'acc' in s and 'val' in s]\n",
        "\n",
        "    if len(loss_list) == 0:\n",
        "        print('Loss is missing in history')\n",
        "        return\n",
        "\n",
        "    ## As loss always exists\n",
        "    epochs = range(1,len(history.history[loss_list[0]]) + 1)\n",
        "\n",
        "    ## Loss\n",
        "    plt.figure(1)\n",
        "    for l in loss_list:\n",
        "        plt.plot(epochs, history.history[l], 'b', label='Training loss (' + str(str(format(history.history[l][-1],'.5f'))+')'))\n",
        "    for l in val_loss_list:\n",
        "        plt.plot(epochs, history.history[l], 'g', label='Validation loss (' + str(str(format(history.history[l][-1],'.5f'))+')'))\n",
        "\n",
        "    plt.title('Loss')\n",
        "    plt.xlabel('Epochs')\n",
        "    plt.ylabel('Loss')\n",
        "    plt.legend()\n",
        "\n",
        "    ## Accuracy\n",
        "    plt.figure(2)\n",
        "    for l in acc_list:\n",
        "        plt.plot(epochs, history.history[l], 'b', label='Training accuracy (' + str(format(history.history[l][-1],'.5f'))+')')\n",
        "    for l in val_acc_list:\n",
        "        plt.plot(epochs, history.history[l], 'g', label='Validation accuracy (' + str(format(history.history[l][-1],'.5f'))+')')\n",
        "\n",
        "    plt.title('Accuracy')\n",
        "    plt.xlabel('Epochs')\n",
        "    plt.ylabel('Accuracy')\n",
        "    plt.legend()\n",
        "    plt.show()"
      ],
      "metadata": {
        "id": "M9OicnrGg18s"
      },
      "execution_count": null,
      "outputs": []
    },
    {
      "cell_type": "code",
      "source": [
        "#plot confusion_matrix function\n",
        "#==============================================================================\n",
        "import numpy as np\n",
        "import itertools\n",
        "\n",
        "def plot_confusion_matrix(cm, classes,\n",
        "                          normalize=False,\n",
        "                          cmap=plt.cm.Blues):\n",
        "    \"\"\"\n",
        "    This function prints and plots the confusion matrix.\n",
        "    Normalization can be applied by setting `normalize=True`.\n",
        "    \"\"\"\n",
        "    if normalize:\n",
        "        cm = cm.astype('float') / cm.sum(axis=1)[:, np.newaxis]\n",
        "        title='Normalized confusion matrix'\n",
        "    else:\n",
        "        title='Confusion matrix'\n",
        "\n",
        "    plt.imshow(cm, interpolation='nearest', cmap=cmap)\n",
        "    plt.title(title)\n",
        "    plt.colorbar()\n",
        "    tick_marks = np.arange(len(classes))\n",
        "    plt.xticks(tick_marks, classes, rotation=45)\n",
        "    plt.yticks(tick_marks, classes)\n",
        "\n",
        "    fmt = '.2f' if normalize else 'd'\n",
        "    thresh = cm.max() / 2.\n",
        "    for i, j in itertools.product(range(cm.shape[0]), range(cm.shape[1])):\n",
        "        plt.text(j, i, format(cm[i, j], fmt),\n",
        "                 horizontalalignment=\"center\",\n",
        "                 color=\"white\" if cm[i, j] > thresh else \"black\")\n",
        "\n",
        "    plt.tight_layout()\n",
        "    plt.ylabel('True label')\n",
        "    plt.xlabel('Predicted label')\n",
        "    plt.show()\n"
      ],
      "metadata": {
        "id": "KN4voiGOg6jY"
      },
      "execution_count": null,
      "outputs": []
    },
    {
      "cell_type": "code",
      "source": [
        "#Define full_multiclass_report which prints classification report\n",
        "# updated\n",
        "#==============================================================================\n",
        "import numpy as np\n",
        "from sklearn.metrics import accuracy_score, classification_report, confusion_matrix\n",
        "\n",
        "def full_multiclass_report(model, x, y_true, classes, batch_size=64, binary=False):\n",
        "    # 1. Transform one-hot encoded y_true into their class number\n",
        "    if not binary:\n",
        "        y_true = np.argmax(y_true, axis=1)\n",
        "\n",
        "    # 2. Predict probabilities for each class\n",
        "    y_pred_prob = model.predict(x, batch_size=batch_size)\n",
        "\n",
        "    # 3. Convert predicted probabilities to class labels\n",
        "    y_pred = np.argmax(y_pred_prob, axis=1)\n",
        "\n",
        "    # 4. Print accuracy score\n",
        "    print(\"Accuracy : \" + str(accuracy_score(y_true, y_pred)))\n",
        "    print(\"\")\n",
        "\n",
        "    # 5. Print classification report\n",
        "    print(\"Classification Report\")\n",
        "    print(classification_report(y_true, y_pred, digits=4))\n",
        "\n",
        "    # 6. Plot confusion matrix\n",
        "    cnf_matrix = confusion_matrix(y_true, y_pred)\n",
        "    print(cnf_matrix)\n",
        "    plot_confusion_matrix(cnf_matrix, classes=classes)\n"
      ],
      "metadata": {
        "id": "SO9Ql7LOWI0r"
      },
      "execution_count": null,
      "outputs": []
    },
    {
      "cell_type": "code",
      "source": [
        "#Define full_multiclass_report which prints classification report\n",
        "#==============================================================================\n",
        "from sklearn.metrics import confusion_matrix, classification_report, accuracy_score\n",
        "\n",
        "# If binary (sigmoid output), set binary parameter to True\n",
        "def full_multiclass_report(model,\n",
        "                           x,\n",
        "                           y_true,\n",
        "                           classes,\n",
        "                           batch_size=64,\n",
        "                           binary=False):\n",
        "\n",
        "    # 1. Transform one-hot encoded y_true into their class number\n",
        "    if not binary:\n",
        "        y_true = np.argmax(y_true,axis=1)\n",
        "\n",
        "    # 2. Predict classes and stores in y_pred\n",
        "    y_pred = model.predict_classes(x, batch_size=batch_size)\n",
        "\n",
        "    # 3. Print accuracy score\n",
        "    print(\"Accuracy : \"+ str(accuracy_score(y_true,y_pred)))\n",
        "\n",
        "    print(\"\")\n",
        "\n",
        "    # 4. Print classification report\n",
        "    print(\"Classification Report\")\n",
        "    print(classification_report(y_true,y_pred,digits=4))\n",
        "\n",
        "\n",
        "    # 5. Plot confusion matrix\n",
        "    cnf_matrix = confusion_matrix(y_true,y_pred)\n",
        "    print(cnf_matrix)\n",
        "    plot_confusion_matrix(cnf_matrix,classes=classes)"
      ],
      "metadata": {
        "id": "G9KqCUWwhFWq"
      },
      "execution_count": null,
      "outputs": []
    },
    {
      "cell_type": "code",
      "source": [
        "#Input parameters\n",
        "#==============================================================================\n",
        "MAX_SEQUENCE_LENGTH = 20\n",
        "MAX_NB_WORDS = 2000\n",
        "EMBEDDING_DIM = 300"
      ],
      "metadata": {
        "id": "pGB8LK84hI5k"
      },
      "execution_count": null,
      "outputs": []
    },
    {
      "cell_type": "code",
      "source": [
        "#Create a tokenizer\n",
        "#==============================================================================\n",
        "from keras.preprocessing.text import Tokenizer\n",
        "from keras.preprocessing.sequence import pad_sequences\n",
        "\n",
        "tokenizer = Tokenizer(nb_words=MAX_NB_WORDS, lower=True )\n",
        "\n",
        "tokenizer.fit_on_texts(docs)\n",
        "\n",
        "sequences = tokenizer.texts_to_sequences(docs)\n",
        "\n",
        "word_index = tokenizer.word_index\n",
        "\n",
        "print('Found %s unique tokens.' % len(word_index))\n",
        "\n",
        "# convert text to sequence of tokens and pad them to ensure equal length vectors\n",
        "x = pad_sequences(sequences, maxlen=MAX_SEQUENCE_LENGTH)"
      ],
      "metadata": {
        "colab": {
          "base_uri": "https://localhost:8080/"
        },
        "id": "XWy_G4mYhK4R",
        "outputId": "90607dd4-fde6-4aff-f6dc-8c507b350fda"
      },
      "execution_count": null,
      "outputs": [
        {
          "output_type": "stream",
          "name": "stderr",
          "text": [
            "/usr/local/lib/python3.10/dist-packages/keras/src/preprocessing/text.py:246: UserWarning: The `nb_words` argument in `Tokenizer` has been renamed `num_words`.\n",
            "  warnings.warn(\n"
          ]
        },
        {
          "output_type": "stream",
          "name": "stdout",
          "text": [
            "Found 22587 unique tokens.\n"
          ]
        }
      ]
    },
    {
      "cell_type": "code",
      "source": [
        "#Training, testing and validation\n",
        "#==============================================================================\n",
        "from sklearn.model_selection import train_test_split\n",
        "seed =1000\n",
        "\n",
        "x_train, x_test, y_train, y_test = train_test_split(x, dummy_y, train_size=0.7, random_state=seed)\n",
        "\n",
        "x_train, x_val, y_train, y_val = train_test_split(x_train, y_train, train_size=0.7, random_state=seed)"
      ],
      "metadata": {
        "id": "ZmN271QohPfl"
      },
      "execution_count": null,
      "outputs": []
    },
    {
      "cell_type": "code",
      "source": [
        "# Pretrained Glove embeddings\n",
        "# trained on Wikipedia 2014 + Gigaword 5 (6B tokens, 400K vocab, uncased, 300d vectors, 822 MB download)\n",
        "#==============================================================================\n",
        "embeddings_index = {}\n",
        "words_not_found=[]\n",
        "glovepath = '/content/drive/My Drive/Colab Notebooks/dl-albanian/glove.6B.300d.txt'\n",
        "f = open (glovepath, \"r\", encoding=\"utf-8\")\n",
        "for line in f:\n",
        "    values = line.split()\n",
        "    word = values[0]\n",
        "    coefs = np.asarray(values[1:], dtype='float32')\n",
        "    embeddings_index[word] = coefs\n",
        "f.close()\n",
        "\n",
        "print('Found %s word vectors.' % len(embeddings_index))\n",
        "\n",
        "\n",
        "embedding_matrix = np.zeros((len(word_index) + 1, EMBEDDING_DIM))\n",
        "for word, i in word_index.items():\n",
        "    embedding_vector = embeddings_index.get(word)\n",
        "    if embedding_vector is not None:\n",
        "        # words not found in embedding index will be all-zeros.\n",
        "        embedding_matrix[i] = embedding_vector\n",
        "    else:\n",
        "        words_not_found.append(word)\n",
        "print('Number of null word embeddings: %d' % np.sum(np.sum(embedding_matrix, axis=1) == 0))\n"
      ],
      "metadata": {
        "colab": {
          "base_uri": "https://localhost:8080/"
        },
        "id": "WIkRjtHThUpD",
        "outputId": "0c1de16c-407b-43b6-9bd6-3f9abc3d9663"
      },
      "execution_count": null,
      "outputs": [
        {
          "output_type": "stream",
          "name": "stdout",
          "text": [
            "Found 400001 word vectors.\n",
            "Number of null word embeddings: 18338\n"
          ]
        }
      ]
    },
    {
      "cell_type": "code",
      "source": [
        "!pip install keras_self_attention"
      ],
      "metadata": {
        "colab": {
          "base_uri": "https://localhost:8080/"
        },
        "id": "1sgc6bBraukJ",
        "outputId": "407d96dc-50ed-49eb-d06d-9c7fc068d0dd"
      },
      "execution_count": null,
      "outputs": [
        {
          "output_type": "stream",
          "name": "stdout",
          "text": [
            "Collecting keras_self_attention\n",
            "  Downloading keras-self-attention-0.51.0.tar.gz (11 kB)\n",
            "  Preparing metadata (setup.py) ... \u001b[?25l\u001b[?25hdone\n",
            "Requirement already satisfied: numpy in /usr/local/lib/python3.10/dist-packages (from keras_self_attention) (1.25.2)\n",
            "Building wheels for collected packages: keras_self_attention\n",
            "  Building wheel for keras_self_attention (setup.py) ... \u001b[?25l\u001b[?25hdone\n",
            "  Created wheel for keras_self_attention: filename=keras_self_attention-0.51.0-py3-none-any.whl size=18894 sha256=9730423a12d75a84ed04afab9a199fcd890ba4080b5ff5da0aeb20a48f1d0226\n",
            "  Stored in directory: /root/.cache/pip/wheels/b8/f7/24/607b483144fb9c47b4ba2c5fba6b68e54aeee2d5bf6c05302e\n",
            "Successfully built keras_self_attention\n",
            "Installing collected packages: keras_self_attention\n",
            "Successfully installed keras_self_attention-0.51.0\n"
          ]
        }
      ]
    },
    {
      "cell_type": "code",
      "source": [
        "#Build LSTM model\n",
        "#==============================================================================\n",
        "from tensorflow import keras\n",
        "from keras import layers, activations\n",
        "from keras.models import Sequential, Model\n",
        "from keras.layers import Dense, Dropout, Activation, LSTM,  SpatialDropout1D\n",
        "from keras.layers import Input, Flatten, Lambda, Dropout\n",
        "from keras.layers import TimeDistributed, Bidirectional\n",
        "from keras_self_attention import SeqSelfAttention\n",
        "\n",
        "model = Sequential()\n",
        "\n",
        "'''\n",
        "model.add(layers.Embedding(len(word_index) + 1,\n",
        "                            EMBEDDING_DIM,\n",
        "                            weights=[embedding_matrix],\n",
        "                            input_length=MAX_SEQUENCE_LENGTH,\n",
        "                            trainable=False))\n",
        "'''\n",
        "model.add(layers.Embedding(len(word_index),  EMBEDDING_DIM, input_length=MAX_SEQUENCE_LENGTH))\n",
        "\n",
        "\n",
        "\n",
        "\n",
        "model.add(SpatialDropout1D(0.3))\n",
        "\n",
        "model.add(Bidirectional(LSTM(32, return_sequences=True)))\n",
        "\n",
        "model.add(SeqSelfAttention( attention_width=8, attention_activation='sigmoid', name='Attention',))\n",
        "\n",
        "model.add(Flatten())\n",
        "\n",
        "model.add(Dense(3, activation='softmax'))\n",
        "\n",
        "\n",
        "model.summary()\n",
        "\n",
        "\n",
        "\n",
        "model.compile(loss='categorical_crossentropy',optimizer='adam', metrics=['accuracy'])\n",
        "\n"
      ],
      "metadata": {
        "colab": {
          "base_uri": "https://localhost:8080/"
        },
        "id": "pTwlsZXahj8N",
        "outputId": "79cefdf8-9f7c-48aa-df11-56665117badf"
      },
      "execution_count": null,
      "outputs": [
        {
          "output_type": "stream",
          "name": "stderr",
          "text": [
            "/usr/local/lib/python3.10/dist-packages/keras/src/initializers/initializers.py:120: UserWarning: The initializer GlorotNormal is unseeded and being called multiple times, which will return identical values each time (even if the initializer is unseeded). Please update your code to provide a seed to the initializer, or avoid using the same initializer instance more than once.\n",
            "  warnings.warn(\n"
          ]
        },
        {
          "output_type": "stream",
          "name": "stdout",
          "text": [
            "Model: \"sequential\"\n",
            "_________________________________________________________________\n",
            " Layer (type)                Output Shape              Param #   \n",
            "=================================================================\n",
            " embedding (Embedding)       (None, 20, 300)           6776100   \n",
            "                                                                 \n",
            " spatial_dropout1d (Spatial  (None, 20, 300)           0         \n",
            " Dropout1D)                                                      \n",
            "                                                                 \n",
            " bidirectional (Bidirection  (None, 20, 64)            85248     \n",
            " al)                                                             \n",
            "                                                                 \n",
            " Attention (SeqSelfAttentio  (None, 20, 64)            4161      \n",
            " n)                                                              \n",
            "                                                                 \n",
            " flatten (Flatten)           (None, 1280)              0         \n",
            "                                                                 \n",
            " dense (Dense)               (None, 3)                 3843      \n",
            "                                                                 \n",
            "=================================================================\n",
            "Total params: 6869352 (26.20 MB)\n",
            "Trainable params: 6869352 (26.20 MB)\n",
            "Non-trainable params: 0 (0.00 Byte)\n",
            "_________________________________________________________________\n"
          ]
        }
      ]
    },
    {
      "cell_type": "code",
      "source": [
        "#Evaluate model and print results\n",
        "#==============================================================================\n",
        "\n",
        "CNN_History=model.fit(x_train, y_train, epochs = 5, batch_size = 256,verbose=1, validation_data=(x_val,y_val), shuffle=True)\n",
        "\n",
        "plot_history(CNN_History)\n",
        "\n",
        "full_multiclass_report(model, x_val, y_val, encoder.inverse_transform(np.arange(3)))"
      ],
      "metadata": {
        "colab": {
          "base_uri": "https://localhost:8080/",
          "height": 1000
        },
        "id": "Ktcq8gumhn9o",
        "outputId": "2de5167f-fd17-4b90-ac4e-27d7f978d101"
      },
      "execution_count": null,
      "outputs": [
        {
          "output_type": "stream",
          "name": "stdout",
          "text": [
            "Epoch 1/5\n",
            "21/21 [==============================] - 9s 180ms/step - loss: 0.9806 - accuracy: 0.5436 - val_loss: 0.9360 - val_accuracy: 0.6037\n",
            "Epoch 2/5\n",
            "21/21 [==============================] - 2s 102ms/step - loss: 0.8524 - accuracy: 0.6335 - val_loss: 0.7973 - val_accuracy: 0.6343\n",
            "Epoch 3/5\n",
            "21/21 [==============================] - 2s 92ms/step - loss: 0.6294 - accuracy: 0.7367 - val_loss: 0.6922 - val_accuracy: 0.7105\n",
            "Epoch 4/5\n",
            "21/21 [==============================] - 2s 93ms/step - loss: 0.4815 - accuracy: 0.8142 - val_loss: 0.6854 - val_accuracy: 0.7137\n",
            "Epoch 5/5\n",
            "21/21 [==============================] - 2s 99ms/step - loss: 0.4094 - accuracy: 0.8470 - val_loss: 0.7624 - val_accuracy: 0.7168\n"
          ]
        },
        {
          "output_type": "display_data",
          "data": {
            "text/plain": [
              "<Figure size 640x480 with 1 Axes>"
            ],
            "image/png": "[encoded data removed]"
          },
          "metadata": {}
        },
        {
          "output_type": "display_data",
          "data": {
            "text/plain": [
              "<Figure size 640x480 with 1 Axes>"
            ],
            "image/png": "[encoded data removed]"
          },
          "metadata": {}
        },
        {
          "output_type": "stream",
          "name": "stdout",
          "text": [
            "36/36 [==============================] - 2s 10ms/step\n",
            "Accuracy : 0.7167553191489362\n",
            "\n",
            "Classification Report\n",
            "              precision    recall  f1-score   support\n",
            "\n",
            "           0     0.7331    0.8383    0.7822      1268\n",
            "           1     0.7662    0.5950    0.6698       358\n",
            "           2     0.6458    0.5413    0.5889       630\n",
            "\n",
            "    accuracy                         0.7168      2256\n",
            "   macro avg     0.7150    0.6582    0.6803      2256\n",
            "weighted avg     0.7140    0.7168    0.7104      2256\n",
            "\n",
            "[[1063   51  154]\n",
            " [ 112  213   33]\n",
            " [ 275   14  341]]\n"
          ]
        },
        {
          "output_type": "display_data",
          "data": {
            "text/plain": [
              "<Figure size 640x480 with 2 Axes>"
            ],
            "image/png": "[encoded data removed]"
          },
          "metadata": {}
        }
      ]
    },
    {
      "cell_type": "markdown",
      "source": [
        "Architecture adapted and database sourced from: https://github.com/lule-ahmedi/AlbAna/"
      ],
      "metadata": {
        "id": "CGVZHaKTvm-j"
      }
    }
  ]
}